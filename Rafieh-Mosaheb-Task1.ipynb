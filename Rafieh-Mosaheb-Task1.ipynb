{
 "cells": [
  {
   "cell_type": "markdown",
   "metadata": {},
   "source": [
    "Author: _Rafieh Mosaheb_\n",
    "\n",
    "Date: 24 Sep 2020\n",
    "***\n",
    "This .ipynb code solves task 1 with computing the gradient of objective function \n",
    "\n",
    "\\begin{equation}\n",
    "    f(\\theta):=||\\psi(\\theta)-\\phi||=<\\psi(\\theta)-\\phi|\\psi(\\theta)-\\phi>=2-<\\psi(\\theta)|\\phi>-<\\phi|\\psi(\\theta)>\n",
    "\\end{equation}\n",
    "\n",
    "and using the common gradient discent formula: <font color=blue>$\\theta_{i+1}=\\theta_i - \\eta \\nabla f(\\theta_i)$</font> where $\\theta_i$ is the vector of $8\\times L$ angles in the interval $(0,4\\pi)$, where $L$ is the number of layers in the circuit."
   ]
  },
  {
   "cell_type": "code",
   "execution_count": 92,
   "metadata": {},
   "outputs": [],
   "source": [
    "import matplotlib.pyplot as plt\n",
    "from array import *\n",
    "from numpy import linalg as LA\n",
    "import numpy as np\n",
    "import sympy\n",
    "from sympy.physics.quantum.dagger import Dagger\n",
    "import random\n",
    "%matplotlib inline"
   ]
  },
  {
   "cell_type": "markdown",
   "metadata": {},
   "source": [
    "For the sake of easiness, I define my own Kronecker product of 4 matrices:"
   ]
  },
  {
   "cell_type": "code",
   "execution_count": 93,
   "metadata": {},
   "outputs": [],
   "source": [
    "#Kronecker product on 4 matrices\n",
    "def rafiehKron(M1, M2, M3, M4):\n",
    "    rK = np.kron(M1,M2)\n",
    "    rK = np.kron(rK,M3)\n",
    "    rK = np.kron(rK,M4)\n",
    "    return rK"
   ]
  },
  {
   "cell_type": "markdown",
   "metadata": {},
   "source": [
    "Then, I define all the necessary scalar, unitaries, and vectors that I need to work with. According to the following equalities, we have:\n",
    "$$\\text{ket04}=|0>^{\\otimes 4},\\quad \\text{ketbra0}=|0><0|,\\quad \\text{ketbra1}=|1><1|$$"
   ]
  },
  {
   "cell_type": "code",
   "execution_count": 94,
   "metadata": {},
   "outputs": [],
   "source": [
    "pi = np.pi\n",
    "im = sympy.I\n",
    "e = np.e\n",
    "I = np.diag([1, 1])\n",
    "Z = np.diag([1, -1])\n",
    "X = np.matrix([[0,1],[1,0]])\n",
    "ZZ = np.kron(np.diag([1, -1]), np.diag([1, -1]))\n",
    "XX = np.kron([[0, 1],[1, 0]], [[0, 1],[1, 0]])\n",
    "ket04 = rafiehKron(np.matrix([[1],[0]]),np.matrix([[1],[0]]),np.matrix([[1],[0]]),np.matrix([[1],[0]]))\n",
    "ketbra0 = np.matrix([[1,0],[0,0]])\n",
    "ketbra1 = np.matrix([[0,0],[0,1]])"
   ]
  },
  {
   "cell_type": "markdown",
   "metadata": {},
   "source": [
    "In the next cell, $gate$ is the Pauli matrix $Z$ or $X$, as we see in the circuit, and $angle$ is the rotation angle about the Pauli axis in the Bloch sphere. Hence, \n",
    "\\begin{equation}\n",
    "    \\text{R(gate, angle)}:= e^{-i\\ angle/2\\ gate}=\\cos(angle/2)\\ \\text{I}-i\\sin(angle/2)\\ gate\n",
    "\\end{equation}"
   ]
  },
  {
   "cell_type": "code",
   "execution_count": 95,
   "metadata": {},
   "outputs": [],
   "source": [
    "def R(gate, angle):\n",
    "    R = np.cos(angle/2) * I - im * np.sin(angle/2) * gate            \n",
    "    return R"
   ]
  },
  {
   "cell_type": "markdown",
   "metadata": {},
   "source": [
    "Now we want to compute the Unitary corresponding to the unparametrized gates of the circuit, controlled-Z's, which are included in the even blocks ($U_{\\text{even}}$). To this end, we need to discover the $control$ and $target$ qubits in each of the 6 c-Z's and then use the following formulla:\n",
    "$$c-Z(control,target) = |0><0|\\otimes I + |1><1|\\otimes Z,$$\n",
    "where the first matrix is applied on the $control$ qubit and the second one is applied on the $target$ qubit. The dictionary defined in the next cell is meant to keep the track of this two qubit:"
   ]
  },
  {
   "cell_type": "code",
   "execution_count": 96,
   "metadata": {},
   "outputs": [],
   "source": [
    "M1 = I\n",
    "M2 = I\n",
    "M3 = I\n",
    "M4 = I\n",
    "\n",
    "Kron_Dic = { '1':M1, '2':M2, '3':M3, '4':M4}\n",
    "val_list = list(Kron_Dic.values()) "
   ]
  },
  {
   "cell_type": "markdown",
   "metadata": {},
   "source": [
    "The point here is that we need to pay attention to the order of c-Z in the circuit. We consider the ordering of applying them from left to write. Hence the matrix multiplication will be from right to left, as follows:"
   ]
  },
  {
   "cell_type": "code",
   "execution_count": 97,
   "metadata": {},
   "outputs": [],
   "source": [
    "#Function c_Z: the controlled-Z gate on two qubit\n",
    "#Input: control --> integer 0,1,2\n",
    "#       target --> integer 1,2,3\n",
    "def c_Z(control, target):\n",
    "    val_list[control] = ketbra0\n",
    "    U_1 = rafiehKron(val_list[0], val_list[1], val_list[2], val_list[3])\n",
    "    \n",
    "    val_list[control] = ketbra1\n",
    "    val_list[target] = Z\n",
    "    U_2 = rafiehKron(val_list[0], val_list[1], val_list[2], val_list[3])\n",
    "    \n",
    "    return U_1+U_2\n",
    " \n",
    "#Function c_Z_Unitary: the corresponding matrix of applying the 6 c-Z gates in U_{even}    \n",
    "def c_Z_Unitary():\n",
    "    U = np.identity(16)\n",
    "    for control in range(2,-1,-1):\n",
    "        for target in range(3,control,-1):\n",
    "            U = U * c_Z(control,target)\n",
    "    return U        "
   ]
  },
  {
   "cell_type": "markdown",
   "metadata": {},
   "source": [
    "In the following cell, we define the odd and even blocks $U_i$.Here, we assume that $\\theta$ is a reshaped 2D array angle vector. Then, theta[j][k] is the same as angles shown in the circuit: $j$, $1\\leq j\\leq 2L$, is the block index in $U_j$ and $0\\leq k\\leq 3$ is the wire."
   ]
  },
  {
   "cell_type": "code",
   "execution_count": 98,
   "metadata": {},
   "outputs": [],
   "source": [
    "def Ui(i, theta):\n",
    "    Ui_mat = np.identity(16,dtype=np.complex64)\n",
    "    if i%2 == 1:\n",
    "        Ui_mat = rafiehKron(R(X,theta[i-1][0]), R(X,theta[i-1][1]), R(X,theta[i-1][2]), R(X,theta[i-1][3]))\n",
    "    else:\n",
    "        Ui_mat = c_Z_Unitary()     \n",
    "        Ui_mat = Ui_mat * rafiehKron(R(Z,theta[i-1][0]), R(Z,theta[i-1][1]), R(Z,theta[i-1][2]), R(Z,theta[i-1][3]))\n",
    "            \n",
    "    return Ui_mat"
   ]
  },
  {
   "cell_type": "markdown",
   "metadata": {},
   "source": [
    "In the following cell, we compute the partial derivative derivU(j, k)$:=\\frac{\\partial U_j(\\theta_j)}{\\partial\\theta_{j,k}}$:\n",
    "1. j odd: $\\frac{\\partial U_j(\\theta_j)}{\\partial\\theta_{j,k}}=\\frac{-i}{2}R_x(\\theta_{j,1})\\otimes\\cdots\\otimes X\\times R_x(\\theta_{j,k})\\otimes\\cdots\\otimes R_x(\\theta_{j,4})$\n",
    "\n",
    "2. j even: $\\frac{\\partial U_j(\\theta_j)}{\\partial\\theta_{j,k}}=\\frac{-i}{2}\\text{c_Z_Unitary()}R_z(\\theta_{j,1})\\otimes\\cdots\\otimes Z\\times R_z(\\theta_{j,k})\\otimes\\cdots\\otimes R_z(\\theta_{j,4})$"
   ]
  },
  {
   "cell_type": "code",
   "execution_count": 99,
   "metadata": {},
   "outputs": [],
   "source": [
    "#Input: theta --> reshaped 2D array of angles\n",
    "#       j --> integer 1,2,3,...,2*L which indicates index of Unitaries\n",
    "#       k --> integer 1,2,3,4 which indicates the wire\n",
    "def derivU(theta, j, k):\n",
    "    j -= 1\n",
    "    k -= 1\n",
    "    \n",
    "    gate = I\n",
    "    mat = rafiehKron(I,I,I,I)\n",
    "    \n",
    "    if j%2 == 1:\n",
    "        gate = X\n",
    "    else:\n",
    "        gate = Z\n",
    "        mat = c_Z_Unitary()\n",
    "    \n",
    "    M1 = R(gate,theta[j][0])\n",
    "    M2 = R(gate,theta[j][1])\n",
    "    M3 = R(gate,theta[j][2])\n",
    "    M4 = R(gate,theta[j][3])    \n",
    "    dUj_Dic = { '1':M1, '2':M2, '3':M3, '4':M4}\n",
    "    val_list = list(dUj_Dic.values()) \n",
    "    val_list[k] = gate * val_list[k]\n",
    "    dUjk = (-im/2) * mat * rafiehKron(val_list[0],val_list[1],val_list[2],val_list[3]) \n",
    "            \n",
    "    return dUjk"
   ]
  },
  {
   "cell_type": "markdown",
   "metadata": {},
   "source": [
    "In the following cell, we generate a random vector $\\phi$ on 4 qubits. We devide the vector by it's norm in order to demonstrate a valid quantum state."
   ]
  },
  {
   "cell_type": "code",
   "execution_count": 100,
   "metadata": {},
   "outputs": [],
   "source": [
    "phi = np.random.random(16) + np.random.random(16) * 1j\n",
    "phi = [x / LA.norm(phi) for x in phi] \n",
    "phi = np.array([phi]).T\n",
    "bra_phi = phi.conj().T"
   ]
  },
  {
   "cell_type": "markdown",
   "metadata": {},
   "source": [
    "In the following cell, we compute $\\nabla_{j,k}f(\\theta)=\\frac{\\partial f(\\theta)}{\\partial\\theta_{j,k}}=-\\frac{\\partial <\\psi(\\theta)|\\phi>}{\\partial\\theta_{j,k}}-\\frac{\\partial <\\phi|\\psi(\\theta)>}{\\partial\\theta_{j,k}}$:"
   ]
  },
  {
   "cell_type": "code",
   "execution_count": 101,
   "metadata": {},
   "outputs": [],
   "source": [
    "#Input: theta --> reshaped 2D array of angles\n",
    "#       j --> integer 1,2,3,...,2*L which indicates index of Unitaries\n",
    "#       k --> integer 1,2,3,4 which indicates the wire\n",
    "#       L --> number of layers in the circuit\n",
    "def gradient(theta, j, k, L):\n",
    "    U = np.identity(16)\n",
    "    for i in range(2*L,j,-1):\n",
    "        U = U * Ui(i, theta)\n",
    "    U = U * derivU(theta,j,k)\n",
    "    for i in range(j-1,0,-1):\n",
    "        U = U * Ui(i, theta)    \n",
    "        \n",
    "    grad1 = bra_phi * U * ket04\n",
    "    grad2 = Dagger(U * ket04) * phi\n",
    "    grad = -(grad1+grad2)\n",
    "    return grad"
   ]
  },
  {
   "cell_type": "markdown",
   "metadata": {},
   "source": [
    "In the next cell, we compute the gradient vector $\\nabla f(\\theta)$, for each $j$ and $k$:"
   ]
  },
  {
   "cell_type": "code",
   "execution_count": 133,
   "metadata": {},
   "outputs": [],
   "source": [
    "#Input: angles --> row array of angles:\n",
    "def gradf(angles, L):\n",
    "    grad = np.zeros((2*L,4))\n",
    "    theta = angles.reshape([2*L,4])\n",
    "    for j in range(1,2*L+1,+1):\n",
    "        for k in range(1,5,+1):\n",
    "            #grad.append(gradient(theta, j, k, L))\n",
    "            #print(gradient(theta, j, k, L))\n",
    "            grad[j-1][k-1] = gradient(theta, j, k, L)\n",
    "    \n",
    "    return grad.reshape([1,8*L])    "
   ]
  },
  {
   "cell_type": "markdown",
   "metadata": {},
   "source": [
    "Now, we can start the gradient discent algorithm, starting with some random $\\theta_0$ and the following update rule:\n",
    "$$\\theta_{i+1}=\\theta_i - \\eta \\nabla f(\\theta_i)$$"
   ]
  },
  {
   "cell_type": "code",
   "execution_count": 129,
   "metadata": {},
   "outputs": [],
   "source": [
    "eta = 0.5\n",
    "n_steps = 6\n",
    "\n",
    "def grad_des_alg(L):\n",
    "    current_angles = []\n",
    "    for i in range(8*L):\n",
    "        #current_angles[i] = random.uniform(0, 4*pi)\n",
    "        current_angles.append(random.uniform(0, 4*pi))\n",
    "    for i in range(n_steps):\n",
    "        ang = np.array(current_angles)\n",
    "        Gi = gradf(ang, L)\n",
    "        #update = np.array([x * eta for x in Gi] )\n",
    "        new_angles = current_angles - eta * Gi\n",
    "        current_angles = new_angles\n",
    "    return new_angles"
   ]
  },
  {
   "cell_type": "markdown",
   "metadata": {},
   "source": [
    "Now is the time to check the algorithm and see the result for desired $\\eta$, $n_{\\text{steps}}$, and $L$:"
   ]
  },
  {
   "cell_type": "code",
   "execution_count": null,
   "metadata": {},
   "outputs": [],
   "source": [
    "minTheta = grad_des_alg(3)"
   ]
  },
  {
   "cell_type": "code",
   "execution_count": null,
   "metadata": {},
   "outputs": [],
   "source": []
  }
 ],
 "metadata": {
  "kernelspec": {
   "display_name": "Python 3",
   "language": "python",
   "name": "python3"
  },
  "language_info": {
   "codemirror_mode": {
    "name": "ipython",
    "version": 3
   },
   "file_extension": ".py",
   "mimetype": "text/x-python",
   "name": "python",
   "nbconvert_exporter": "python",
   "pygments_lexer": "ipython3",
   "version": "3.7.7"
  }
 },
 "nbformat": 4,
 "nbformat_minor": 4
}
